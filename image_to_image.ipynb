{
 "cells": [
  {
   "cell_type": "code",
   "execution_count": 3,
   "metadata": {},
   "outputs": [],
   "source": [
    "# boilerplate imports, trim later\n",
    "import math\n",
    "from random import sample\n",
    "import numpy as np\n",
    "import torch\n",
    "import torch.nn as nn\n",
    "import torch.nn.functional as F\n",
    "import torchvision\n",
    "import matplotlib.pyplot as plt\n",
    "from livelossplot import PlotLosses\n",
    "import cv2\n",
    "device = torch.device('cuda') if torch.cuda.is_available() else torch.device('cpu')"
   ]
  },
  {
   "cell_type": "markdown",
   "metadata": {},
   "source": [
    "# Dataset Loading"
   ]
  },
  {
   "cell_type": "code",
   "execution_count": 6,
   "metadata": {},
   "outputs": [],
   "source": [
    "def load_video(filepath, start_frame=0, end_frame=-1):\n",
    "    # import video\n",
    "    video = cv2.VideoCapture(filepath)\n",
    "    # get frame size (to size array) and number of frames\n",
    "    frame_height = int(video.get(cv2.CAP_PROP_FRAME_HEIGHT))\n",
    "    frame_width = int(video.get(cv2.CAP_PROP_FRAME_WIDTH))\n",
    "    frame_count = int(video.get(cv2.CAP_PROP_FRAME_COUNT))\n",
    "\n",
    "    if end_frame == -1 or end_frame > frame_count:\n",
    "        end_frame = frame_count\n",
    "\n",
    "    frames = np.empty((end_frame-start_frame, frame_height, frame_width, 3), np.dtype('uint8'))\n",
    "\n",
    "    for frame in range(start_frame,min(end_frame,frame_count)):\n",
    "        success, frames[frame] = video.read()\n",
    "        if not success: break\n",
    "    video.release()\n",
    "    return frames"
   ]
  },
  {
   "cell_type": "code",
   "execution_count": null,
   "metadata": {},
   "outputs": [],
   "source": [
    "MAFIA_FILEPATH = \"datasets/game/MafiaVideogame.mp4\"\n",
    "MAFIA_FRAMES = load_video(MAFIA_FILEPATH, end_frame=400)\n",
    "count = 0\n",
    "for frame in MAFIA_FRAMES:\n",
    "    cv2.namedWindow('frame {}'.format(count))\n",
    "    cv2.imshow('frame {}'.format(count), frame)\n",
    "    count+=1\n",
    "    cv2.waitKey(0)"
   ]
  },
  {
   "cell_type": "code",
   "execution_count": null,
   "metadata": {},
   "outputs": [],
   "source": []
  },
  {
   "cell_type": "code",
   "execution_count": null,
   "metadata": {},
   "outputs": [],
   "source": []
  }
 ],
 "metadata": {
  "kernelspec": {
   "display_name": "Python 3",
   "language": "python",
   "name": "python3"
  },
  "language_info": {
   "codemirror_mode": {
    "name": "ipython",
    "version": 3
   },
   "file_extension": ".py",
   "mimetype": "text/x-python",
   "name": "python",
   "nbconvert_exporter": "python",
   "pygments_lexer": "ipython3",
   "version": "3.8.6"
  }
 },
 "nbformat": 4,
 "nbformat_minor": 4
}
